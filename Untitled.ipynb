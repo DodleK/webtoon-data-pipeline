{
 "cells": [
  {
   "cell_type": "code",
   "execution_count": 1,
   "id": "cb5bd1e3-460c-427a-a536-ce50c5ecd751",
   "metadata": {},
   "outputs": [],
   "source": [
    "import requests as re\n",
    "from bs4 import BeautifulSoup\n",
    "import pandas as pd\n",
    "from datetime import datetime"
   ]
  },
  {
   "cell_type": "code",
   "execution_count": 2,
   "id": "8b3f21ea-f547-4f92-bbf7-c5074a71920f",
   "metadata": {},
   "outputs": [],
   "source": [
    "HEADERS = ({'User-Agent':'Mozilla/5.0 (Windows NT 10.0; Win64; x64) AppleWebKit/537.36 (KHTML, like Gecko) Chrome/133.0.0.0 Safari/537.36', 'Accept-Language': 'en-US, en;q=0.5'})\n",
    "\n",
    "    # The webpage URL\n",
    "URL = \"https://www.webtoons.com/en/originals\"\n",
    "\n",
    "    # HTTP Request\n",
    "webpage = re.get(URL, headers=HEADERS)\n",
    "\n",
    "    # Soup Object containing all data\n",
    "soup = BeautifulSoup(webpage.content, \"html.parser\")\n",
    "    \n",
    "    # Fetch links as List of Tag Objects\n",
    "links = soup.find_all(\"a\", attrs={'class':'daily_card_item'})\n",
    "\n",
    "link = \"https://www.webtoons.com/en/comedy/adventures-of-god/list?title_no=853\"\n",
    "\n",
    "new_webpage = re.get(link, headers=HEADERS)\n",
    "\n",
    "new_soup = BeautifulSoup(new_webpage.content, \"html.parser\")"
   ]
  },
  {
   "cell_type": "code",
   "execution_count": 3,
   "id": "1e0cf56d-8837-449c-88dd-c69fc1a72f8c",
   "metadata": {},
   "outputs": [
    {
     "data": {
      "text/plain": [
       "<a class=\"daily_card_item NPI=a:list,i=853,r=32,g:en_en\" data-title-unsuitable-for-children=\"true\" data-title-unsuitable-for-children-skin=\"harmful_white_skin1\" href=\"https://www.webtoons.com/en/comedy/adventures-of-god/list?title_no=853\">\n",
       "<img alt=\"\" height=\"138\" src=\"https://webtoon-phinf.pstatic.net/20170502_80/1493715267628Gz02K_JPEG/thumb_ipad.jpg?type=a138\" width=\"138\"/>\n",
       "<p class=\"genre g_comedy\">Comedy</p>\n",
       "<div class=\"info\">\n",
       "<p class=\"subj\">Adventures of God</p>\n",
       "<p class=\"author\">Teo / Corey</p>\n",
       "<p class=\"icon_area\"></p>\n",
       "</div>\n",
       "<p class=\"grade_area\"><span class=\"ico_like3\">like</span><em class=\"grade_num\">34.9M</em></p>\n",
       "</a>"
      ]
     },
     "execution_count": 3,
     "metadata": {},
     "output_type": "execute_result"
    }
   ],
   "source": [
    "manga_block = soup.find(\"a\", href=link)\n",
    "manga_block"
   ]
  },
  {
   "cell_type": "code",
   "execution_count": 20,
   "id": "af0eb30b-26a8-4729-8916-d5b5c4fdbafb",
   "metadata": {},
   "outputs": [
    {
     "name": "stdout",
     "output_type": "stream",
     "text": [
      "First episode date (datetime format): 01-29-2025\n"
     ]
    }
   ],
   "source": [
    "# Find all span tags with class \"date\"\n",
    "dates = new_soup.find_all('span', class_='date')\n",
    "\n",
    "# Extract and convert the first episode's date (last span tag)\n",
    "if dates:\n",
    "    first_episode_date_str = dates[-1].text.strip()  # Extract text (e.g., \"Feb 25, 2024\")\n",
    "    first_episode_date = datetime.strptime(first_episode_date_str, \"%b %d, %Y\")  # Convert to date\n",
    "    formatted_date = first_episode_date.strftime(\"%m-%d-%Y\")  # Format as MM-DD-YYYY\n",
    "else:\n",
    "    formatted_date = None  # Handle missing data\n",
    "\n",
    "print(\"First episode date (datetime format):\", formatted_date)"
   ]
  },
  {
   "cell_type": "code",
   "execution_count": 4,
   "id": "d5f953ae-c59c-40a1-a6cb-3d2a6512abc7",
   "metadata": {},
   "outputs": [
    {
     "name": "stdout",
     "output_type": "stream",
     "text": [
      "34900000\n"
     ]
    }
   ],
   "source": [
    "likes = manga_block.find('em', {'class':'grade_num'}).string.strip()\n",
    "if likes.endswith(\"M\"):\n",
    "     likes = int(float(likes[:-1]) * 1000000)  # Remove 'M' and multiply\n",
    "else:\n",
    "    likes = int(likes.replace(',', '')) \n",
    "\n",
    "print(likes)"
   ]
  },
  {
   "cell_type": "code",
   "execution_count": 5,
   "id": "9f4ac967-01d4-4d0e-8e40-6361c406680a",
   "metadata": {},
   "outputs": [
    {
     "name": "stdout",
     "output_type": "stream",
     "text": [
      "ONGOING\n"
     ]
    }
   ],
   "source": [
    "if manga_block:\n",
    "        # Check for \"HIATUS\" status in new_soup (individual manga page)\n",
    "    status_div = manga_block.find('p', {'class':'icon_area'})\n",
    "    ongoing = manga_block.find_parent('div', class_='daily_lst').find(\"h2\", {'id':'ongoing'})\n",
    "    completed = manga_block.find_parent('div', class_='daily_lst').find(\"h2\",{'id':'completed'})\n",
    "    \n",
    "    if status_div and \"HIATUS\" in status_div.get_text():\n",
    "        print(\"HIATUS\")\n",
    "        \n",
    "        # Now, check if it belongs to the ongoing or completed section from the main page\n",
    "    elif ongoing:\n",
    "        print(\"ONGOING\")\n",
    "    elif completed:\n",
    "        print(\"COMPLETED\")\n",
    "    else:\n",
    "        print(\"NA\")"
   ]
  },
  {
   "cell_type": "code",
   "execution_count": 6,
   "id": "f79d99b9-7327-4cc9-a6a4-78b073448319",
   "metadata": {},
   "outputs": [],
   "source": [
    "author = new_soup.find_all(\"h3\", attrs={'class':\"title\"})"
   ]
  },
  {
   "cell_type": "code",
   "execution_count": 7,
   "id": "b4216ccf-0b4b-42f3-90a5-a6b59e456fc9",
   "metadata": {},
   "outputs": [
    {
     "name": "stdout",
     "output_type": "stream",
     "text": [
      "Teo, Corey\n"
     ]
    }
   ],
   "source": [
    "# Extract author names and join into a string\n",
    "authors = \", \".join([h3.text.strip() for h3 in new_soup.find_all(\"h3\", class_=\"title\")])\n",
    "\n",
    "print(authors)  # Output: \"Candlebambi, Saedle, Lemon Frog\""
   ]
  },
  {
   "cell_type": "code",
   "execution_count": 21,
   "id": "a304db04-6aa3-4e0c-935b-4762e8fe9687",
   "metadata": {},
   "outputs": [
    {
     "name": "stdout",
     "output_type": "stream",
     "text": [
      "<class 'int'>\n"
     ]
    }
   ],
   "source": [
    "title_number = int(link.split(\"?title_no=\")[-1])\n",
    "print(type(title_number)) "
   ]
  },
  {
   "cell_type": "code",
   "execution_count": 22,
   "id": "0a4ce134-54dd-419f-9385-255cff6aeb5b",
   "metadata": {},
   "outputs": [
    {
     "data": {
      "text/plain": [
       "853"
      ]
     },
     "execution_count": 22,
     "metadata": {},
     "output_type": "execute_result"
    }
   ],
   "source": [
    "title_number"
   ]
  },
  {
   "cell_type": "code",
   "execution_count": 10,
   "id": "c4973ab1-7345-46f6-a7b4-6f7da85eb593",
   "metadata": {},
   "outputs": [],
   "source": [
    "weekdays = new_soup.find(\"p\", attrs={'class':\"day_info\"}).text"
   ]
  },
  {
   "cell_type": "code",
   "execution_count": 11,
   "id": "c91ceaa2-deb9-4622-8c88-03e44ce96ad6",
   "metadata": {},
   "outputs": [
    {
     "data": {
      "text/plain": [
       "'UPEVERY TUE, THU, SAT'"
      ]
     },
     "execution_count": 11,
     "metadata": {},
     "output_type": "execute_result"
    }
   ],
   "source": [
    "weekdays"
   ]
  },
  {
   "cell_type": "code",
   "execution_count": 12,
   "id": "a05dd3f1-355c-4d98-acc3-8d20256260e2",
   "metadata": {},
   "outputs": [],
   "source": [
    "if weekdays != \"COMPLETED\":\n",
    "    weekdays = weekdays.split(\" \", 1)\n",
    "    week = weekdays[1].strip()\n",
    "else:\n",
    "    week = \"Released\""
   ]
  },
  {
   "cell_type": "code",
   "execution_count": 13,
   "id": "83485745-030d-4efa-802b-cab0a4517c89",
   "metadata": {},
   "outputs": [
    {
     "data": {
      "text/plain": [
       "'TUE, THU, SAT'"
      ]
     },
     "execution_count": 13,
     "metadata": {},
     "output_type": "execute_result"
    }
   ],
   "source": [
    "week"
   ]
  },
  {
   "cell_type": "code",
   "execution_count": 14,
   "id": "204fb343-1944-46a6-a54e-02d8d4106bee",
   "metadata": {},
   "outputs": [],
   "source": [
    "weekdays = new_soup.find(\"p\", attrs={'class':\"day_info\"}).text\n",
    "hiatus = new_soup.find(\"div\", attrs={'class':\"detail_paywall\"})\n",
    "pause = new_soup.find(\"span\",{'class':\"subj\"})\n",
    "daily_pass = new_soup.find(\"div\",{'class':\"detail_install_app\"})"
   ]
  },
  {
   "cell_type": "code",
   "execution_count": 15,
   "id": "599fcddd-55b2-4d10-9ff1-ae078ddb4315",
   "metadata": {},
   "outputs": [
    {
     "data": {
      "text/plain": [
       "<div class=\"detail_install_app\">\n",
       "<strong>Read <em>6</em> more new episodes on the app!</strong><br/>Scan the QR code to download the <em>WEBTOON</em> app on the App Store or Google Play.\n",
       "\t\t\t\t\t\t\t\t<img alt=\"QR Code\" class=\"img_qrcode\" height=\"73\" src=\"/qr/app/episodeList/webtoon/853\" width=\"71\"/>\n",
       "</div>"
      ]
     },
     "execution_count": 15,
     "metadata": {},
     "output_type": "execute_result"
    }
   ],
   "source": [
    "daily_pass"
   ]
  },
  {
   "cell_type": "code",
   "execution_count": 16,
   "id": "bc6cbc6c-d66b-4ec8-9371-cf7e00c4c1b7",
   "metadata": {},
   "outputs": [],
   "source": [
    "if daily_pass and \"every day\" in daily_pass.get_text():\n",
    "    daily_pass = True\n",
    "else:\n",
    "    daily_pass = False"
   ]
  },
  {
   "cell_type": "code",
   "execution_count": 17,
   "id": "6f44294a-bacd-4de7-81d2-f610e85fdd12",
   "metadata": {},
   "outputs": [
    {
     "data": {
      "text/plain": [
       "False"
      ]
     },
     "execution_count": 17,
     "metadata": {},
     "output_type": "execute_result"
    }
   ],
   "source": [
    "daily_pass"
   ]
  },
  {
   "cell_type": "code",
   "execution_count": null,
   "id": "d208ef1f-794f-40c9-9755-f110cd37725f",
   "metadata": {},
   "outputs": [],
   "source": []
  },
  {
   "cell_type": "code",
   "execution_count": null,
   "id": "1bfadb20-503a-4905-81dd-07d8f89dead6",
   "metadata": {},
   "outputs": [],
   "source": []
  }
 ],
 "metadata": {
  "kernelspec": {
   "display_name": "Python 3 (ipykernel)",
   "language": "python",
   "name": "python3"
  },
  "language_info": {
   "codemirror_mode": {
    "name": "ipython",
    "version": 3
   },
   "file_extension": ".py",
   "mimetype": "text/x-python",
   "name": "python",
   "nbconvert_exporter": "python",
   "pygments_lexer": "ipython3",
   "version": "3.10.11"
  }
 },
 "nbformat": 4,
 "nbformat_minor": 5
}
